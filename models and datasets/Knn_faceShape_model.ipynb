{
 "cells": [
  {
   "cell_type": "markdown",
   "id": "3d95906f-5962-4cce-86b5-3ce575d0ab96",
   "metadata": {},
   "source": [
    "\n",
    "## Importing Necessary Libraries\n"
   ]
  },
  {
   "cell_type": "code",
   "execution_count": 1,
   "id": "719915bd-d5fe-4d2f-9528-85be63d37998",
   "metadata": {},
   "outputs": [],
   "source": [
    "import os\n",
    "import cv2\n",
    "import dlib\n",
    "import pandas as pd\n",
    "import numpy as np\n",
    "from sklearn.preprocessing import LabelEncoder\n",
    "from sklearn.preprocessing import StandardScaler\n",
    "from sklearn.model_selection import train_test_split\n",
    "from sklearn.neighbors import KNeighborsClassifier\n",
    "from sklearn.model_selection import cross_val_score\n",
    "from sklearn.metrics import confusion_matrix\n",
    "from sklearn.metrics import classification_report\n",
    "import matplotlib.pyplot as plt\n",
    "import seaborn as sns"
   ]
  },
  {
   "cell_type": "markdown",
   "id": "91002b56-0cdd-4650-9ca8-4c4fd669b5bb",
   "metadata": {},
   "source": [
    "## Loading Pretrained Models for Landmark detection"
   ]
  },
  {
   "cell_type": "code",
   "execution_count": 2,
   "id": "89652917-c1d1-4628-ade2-e559dea3d8df",
   "metadata": {},
   "outputs": [],
   "source": [
    "# Load the pre-trained models\n",
    "detector = dlib.get_frontal_face_detector()\n",
    "predictor = dlib.shape_predictor('shape_predictor_68_face_landmarks.dat')"
   ]
  },
  {
   "cell_type": "code",
   "execution_count": 3,
   "id": "f16aaa7b-2a73-44b1-82af-dc1c057efee0",
   "metadata": {},
   "outputs": [],
   "source": [
    "def get_landmarks(image):\n",
    "    if image is None:\n",
    "        print(\"Error: Image is None\")\n",
    "        return None\n",
    "    gray = cv2.cvtColor(image, cv2.COLOR_BGR2GRAY)\n",
    "    rects = detector(gray, 1)\n",
    "    for (i, rect) in enumerate(rects):\n",
    "        shape = predictor(gray, rect)\n",
    "        landmarks = np.zeros((68, 2), dtype=\"int\")\n",
    "        for i in range(0, 68):\n",
    "            landmarks[i] = (shape.part(i).x, shape.part(i).y)\n",
    "        return landmarks\n",
    "    return None"
   ]
  },
  {
   "cell_type": "code",
   "execution_count": 4,
   "id": "2629d0ec-609f-4d9d-9b0d-854d65bc8410",
   "metadata": {},
   "outputs": [
    {
     "data": {
      "text/plain": [
       "-1"
      ]
     },
     "execution_count": 4,
     "metadata": {},
     "output_type": "execute_result"
    }
   ],
   "source": [
    "# Load an example image\n",
    "image = cv2.imread('Shreeya Shrestha.JPG')\n",
    "landmarks = get_landmarks(image)\n",
    "\n",
    "# Draw landmarks on the image\n",
    "for (x, y) in landmarks:\n",
    "    cv2.circle(image, (x, y), 1, (0, 0, 255), -1)\n",
    "\n",
    "# Show the image with landmarks\n",
    "cv2.imshow(\"Output\", image)\n",
    "cv2.waitKey(0)"
   ]
  },
  {
   "cell_type": "code",
   "execution_count": 5,
   "id": "ea0b7e7f-6423-4d8e-b5c4-1d71c35b789d",
   "metadata": {},
   "outputs": [],
   "source": [
    "def calculate_angle(p1, p2, p3):\n",
    "    a = np.array(p1)\n",
    "    b = np.array(p2)\n",
    "    c = np.array(p3)\n",
    "    ba = a - b\n",
    "    bc = c - b\n",
    "    cosine_angle = np.dot(ba, bc) / (np.linalg.norm(ba) * np.linalg.norm(bc))\n",
    "    angle = np.degrees(np.arccos(cosine_angle))\n",
    "    return angle"
   ]
  },
  {
   "cell_type": "code",
   "execution_count": 6,
   "id": "a875c26c-b20e-4d59-8ca3-528d826cac13",
   "metadata": {},
   "outputs": [
    {
     "name": "stdout",
     "output_type": "stream",
     "text": [
      "[136.0036764208968, 107.0420478129973, 228.0021929719098, 179.0446871593793, 223.0022421411946, 116.00431026474836, 70.41539538327439, 135.6006212572081, 117.04707566362592, 1.0224210787421117, 0.802882901267049]\n"
     ]
    }
   ],
   "source": [
    "def extract_features(landmarks):\n",
    "    # Example features: distances between some key landmarks\n",
    "    features = []\n",
    "    \n",
    "    # Distance between eyes\n",
    "    eye_distance = np.linalg.norm(landmarks[36] - landmarks[45])\n",
    "    features.append(eye_distance)\n",
    "    \n",
    "    # Distance between nose and chin\n",
    "    nose_chin_distance = np.linalg.norm(landmarks[33] - landmarks[8])\n",
    "    features.append(nose_chin_distance)\n",
    "    \n",
    "    # Jaw width\n",
    "    jaw_width = np.linalg.norm(landmarks[0] - landmarks[16])\n",
    "    features.append(jaw_width)\n",
    "\n",
    "    #face length\n",
    "    face_length = np.linalg.norm(landmarks[8] - landmarks[27])\n",
    "    features.append(face_length)\n",
    "\n",
    "    #cheekbones\n",
    "    cheekbones = np.linalg.norm(landmarks[1] - landmarks[15])\n",
    "    features.append(cheekbones)\n",
    "    \n",
    "    #forehead length\n",
    "    forehead = np.linalg.norm(landmarks[19] - landmarks[24])\n",
    "    features.append(forehead)\n",
    "\n",
    "    jaw_angle = calculate_angle(landmarks[0], landmarks[8], landmarks[16])\n",
    "    features.append(jaw_angle)\n",
    "    \n",
    "    cheekbone_angle = calculate_angle(landmarks[1], landmarks[27], landmarks[15])\n",
    "    features.append(cheekbone_angle)\n",
    "    \n",
    "    forehead_angle = calculate_angle(landmarks[19], landmarks[27], landmarks[24])\n",
    "    features.append(forehead_angle)\n",
    "    \n",
    "    jaw_to_cheekbone_ratio = jaw_width / cheekbones\n",
    "    features.append(jaw_to_cheekbone_ratio)\n",
    "    \n",
    "    face_length_to_width_ratio = face_length / cheekbones\n",
    "    features.append(face_length_to_width_ratio)\n",
    "    \n",
    "    return features\n",
    "\n",
    "# Extract features from the landmarks\n",
    "if landmarks is not None:\n",
    "    features = extract_features(landmarks)\n",
    "    print(features)\n",
    "else:\n",
    "    print(\"No face detected\")\n"
   ]
  },
  {
   "cell_type": "code",
   "execution_count": 7,
   "id": "0bd8814b-39b4-4bd0-9a01-f246baa45396",
   "metadata": {},
   "outputs": [],
   "source": [
    "# Initialize lists to hold features and labels\n",
    "feature_list = []\n",
    "label_list = []\n",
    "image_name_list = []"
   ]
  },
  {
   "cell_type": "code",
   "execution_count": 8,
   "id": "1f98ba0b-ea00-4a30-8385-4d42faed90d5",
   "metadata": {},
   "outputs": [],
   "source": [
    "main_dir = 'D:\\\\archive\\\\FaceShape Dataset\\\\training_set'"
   ]
  },
  {
   "cell_type": "code",
   "execution_count": null,
   "id": "b1fbf244-7209-4d9b-83db-20c52affda2c",
   "metadata": {},
   "outputs": [
    {
     "name": "stdout",
     "output_type": "stream",
     "text": [
      "Error: Failed to load image at D:\\archive\\FaceShape Dataset\\training_set\\Oblong\\oblong (724).jpg\n"
     ]
    }
   ],
   "source": [
    "# Iterate over each folder corresponding to a face shape\n",
    "for label in os.listdir(main_dir):\n",
    "    label_dir = os.path.join(main_dir, label)\n",
    "    if os.path.isdir(label_dir):\n",
    "        for filename in os.listdir(label_dir):\n",
    "            if filename.endswith('.jpg') or filename.endswith('.png'):\n",
    "                image_path = os.path.join(label_dir, filename)\n",
    "                image = cv2.imread(image_path)\n",
    "                if image is None:\n",
    "                    print(f\"Error: Failed to load image at {image_path}\")\n",
    "                    continue\n",
    "                landmarks = get_landmarks(image)\n",
    "                \n",
    "                if landmarks is not None: \n",
    "                    features = extract_features(landmarks)\n",
    "                    feature_list.append(features)\n",
    "                    label_list.append(label)\n",
    "                    image_name_list.append(filename)"
   ]
  },
  {
   "cell_type": "code",
   "execution_count": null,
   "id": "ed0bf944-5b76-4248-b883-d54809e2458d",
   "metadata": {},
   "outputs": [],
   "source": [
    "print (feature_list)"
   ]
  },
  {
   "cell_type": "code",
   "execution_count": 115,
   "id": "5ae7561a-46ee-4298-9ca9-671fc50e1262",
   "metadata": {},
   "outputs": [],
   "source": [
    "# Create a DataFrame\n",
    "columns = ['eye_distance','nose_chin_distance','jaw_width','face_length','cheekbones','forehead','jaw_angle','cheekbone_angle','forehead_angle','jaw_to_cheekbone_ratio',\n",
    "          'face_length_to_width_ratio']\n",
    "df = pd.DataFrame(feature_list,columns=columns)\n",
    "df['face_shape'] = label_list\n",
    "df['ImageID'] = image_name_list\n"
   ]
  },
  {
   "cell_type": "code",
   "execution_count": 116,
   "id": "04875b3e-f707-4971-ae2a-17c7fb33fd38",
   "metadata": {},
   "outputs": [],
   "source": [
    "# Save to CSV\n",
    "df.to_csv('face_shape_features.csv', index=False)"
   ]
  },
  {
   "cell_type": "code",
   "execution_count": 117,
   "id": "a77d7d56-6db9-4e32-abc9-b543463cf93d",
   "metadata": {},
   "outputs": [],
   "source": [
    "# Load the dataset\n",
    "data = pd.read_csv('face_shape_features.csv')"
   ]
  },
  {
   "cell_type": "code",
   "execution_count": 122,
   "id": "8087bc1c-b09b-4f84-bb5d-2332e652935f",
   "metadata": {},
   "outputs": [],
   "source": [
    "# Separate features and labels\n",
    "X = data.drop(['face_shape','ImageID'], axis=1)\n",
    "Y = data['face_shape']"
   ]
  },
  {
   "cell_type": "code",
   "execution_count": 123,
   "id": "0bafea3d-f420-4fa2-8bdc-77a1326c078b",
   "metadata": {},
   "outputs": [
    {
     "name": "stdout",
     "output_type": "stream",
     "text": [
      "      eye_distance  nose_chin_distance   jaw_width  face_length  cheekbones  \\\n",
      "0        84.480767           67.119297  139.807010   111.364267  135.074054   \n",
      "1       191.023559          130.862523  312.577990   238.212090  306.235204   \n",
      "2       102.176318          100.079968  178.404036   159.201131  174.484956   \n",
      "3       318.981191          241.337937  529.188057   422.720948  523.490210   \n",
      "4       224.644163          156.540730  347.972700   289.761971  344.768038   \n",
      "...            ...                 ...         ...          ...         ...   \n",
      "3976    188.321534          128.000000  302.393783   227.035240  293.339394   \n",
      "3977     79.025312           58.008620  125.015999    97.020616  123.004065   \n",
      "3978    142.031687           98.127468  238.075618   175.071414  234.104677   \n",
      "3979     79.227520           66.370174  134.372616   107.466274  130.311166   \n",
      "3980    175.231276          130.552671  282.177249   216.187419  278.028775   \n",
      "\n",
      "        forehead  jaw_angle  cheekbone_angle  forehead_angle  \\\n",
      "0      75.239617  62.379055       155.592708      120.415690   \n",
      "1     162.111073  65.427104       153.638547      115.599357   \n",
      "2      89.140339  57.429681       151.507223      110.732487   \n",
      "3     260.109592  62.877192       153.783135      115.427950   \n",
      "4     191.668985  60.811242       153.981963      122.131591   \n",
      "...          ...        ...              ...             ...   \n",
      "3976  156.204994  68.081632       146.602767      129.294804   \n",
      "3977   69.007246  68.695968       141.245037      131.626885   \n",
      "3978  125.015999  65.501248       157.989992      116.074145   \n",
      "3979   69.354164  69.932250       131.291572      116.565051   \n",
      "3980  143.171226  74.467084       125.495516      120.850573   \n",
      "\n",
      "      jaw_to_cheekbone_ratio  face_length_to_width_ratio  \n",
      "0                   1.035040                    0.824468  \n",
      "1                   1.020712                    0.777873  \n",
      "2                   1.022461                    0.912406  \n",
      "3                   1.010884                    0.807505  \n",
      "4                   1.009295                    0.840455  \n",
      "...                      ...                         ...  \n",
      "3976                1.030867                    0.773968  \n",
      "3977                1.016357                    0.788759  \n",
      "3978                1.016962                    0.747834  \n",
      "3979                1.031167                    0.824690  \n",
      "3980                1.014921                    0.777572  \n",
      "\n",
      "[3981 rows x 11 columns]\n"
     ]
    }
   ],
   "source": [
    "print (X)"
   ]
  },
  {
   "cell_type": "code",
   "execution_count": 124,
   "id": "c69fe876-7ac7-4711-b906-e616e026b0b7",
   "metadata": {},
   "outputs": [],
   "source": [
    "# Encode labels\n",
    "label_encoder = LabelEncoder()\n",
    "Y = label_encoder.fit_transform(Y)"
   ]
  },
  {
   "cell_type": "code",
   "execution_count": 125,
   "id": "8171543e-3ca3-4246-8592-072014cdf6b3",
   "metadata": {},
   "outputs": [],
   "source": [
    "# Scale features\n",
    "scaler = StandardScaler()\n",
    "X = scaler.fit_transform(X)"
   ]
  },
  {
   "cell_type": "code",
   "execution_count": 126,
   "id": "cdb4b777-80d2-423c-bbf3-1959e75fd71d",
   "metadata": {},
   "outputs": [],
   "source": [
    "# Split the dataset\n",
    "X_train, X_test, Y_train, Y_test = train_test_split(X, Y, test_size=0.25, random_state=1200)"
   ]
  },
  {
   "cell_type": "code",
   "execution_count": 127,
   "id": "a74cd43d-7a77-4687-a42c-f298b16cac8d",
   "metadata": {},
   "outputs": [],
   "source": [
    "# Find the optimal k value\n",
    "cv_scores = []\n",
    "neighbors = range(2, 30)"
   ]
  },
  {
   "cell_type": "code",
   "execution_count": 128,
   "id": "e36bd0a5-4394-4805-aa0b-09e74247d94d",
   "metadata": {},
   "outputs": [],
   "source": [
    "for k in neighbors:\n",
    "    knn = KNeighborsClassifier(n_neighbors=k)\n",
    "    scores = cross_val_score(knn, X_train, Y_train, cv=10, scoring='accuracy')\n",
    "    cv_scores.append(scores.mean())"
   ]
  },
  {
   "cell_type": "code",
   "execution_count": 129,
   "id": "e5f28a12-4ab1-482b-b852-30bcc6bd956e",
   "metadata": {},
   "outputs": [],
   "source": [
    "# Determine the best k\n",
    "optimal_k = neighbors[cv_scores.index(max(cv_scores))]"
   ]
  },
  {
   "cell_type": "code",
   "execution_count": 130,
   "id": "d0362153-eda8-4a52-aab0-a917514573f5",
   "metadata": {},
   "outputs": [
    {
     "data": {
      "text/html": [
       "<style>#sk-container-id-3 {color: black;}#sk-container-id-3 pre{padding: 0;}#sk-container-id-3 div.sk-toggleable {background-color: white;}#sk-container-id-3 label.sk-toggleable__label {cursor: pointer;display: block;width: 100%;margin-bottom: 0;padding: 0.3em;box-sizing: border-box;text-align: center;}#sk-container-id-3 label.sk-toggleable__label-arrow:before {content: \"▸\";float: left;margin-right: 0.25em;color: #696969;}#sk-container-id-3 label.sk-toggleable__label-arrow:hover:before {color: black;}#sk-container-id-3 div.sk-estimator:hover label.sk-toggleable__label-arrow:before {color: black;}#sk-container-id-3 div.sk-toggleable__content {max-height: 0;max-width: 0;overflow: hidden;text-align: left;background-color: #f0f8ff;}#sk-container-id-3 div.sk-toggleable__content pre {margin: 0.2em;color: black;border-radius: 0.25em;background-color: #f0f8ff;}#sk-container-id-3 input.sk-toggleable__control:checked~div.sk-toggleable__content {max-height: 200px;max-width: 100%;overflow: auto;}#sk-container-id-3 input.sk-toggleable__control:checked~label.sk-toggleable__label-arrow:before {content: \"▾\";}#sk-container-id-3 div.sk-estimator input.sk-toggleable__control:checked~label.sk-toggleable__label {background-color: #d4ebff;}#sk-container-id-3 div.sk-label input.sk-toggleable__control:checked~label.sk-toggleable__label {background-color: #d4ebff;}#sk-container-id-3 input.sk-hidden--visually {border: 0;clip: rect(1px 1px 1px 1px);clip: rect(1px, 1px, 1px, 1px);height: 1px;margin: -1px;overflow: hidden;padding: 0;position: absolute;width: 1px;}#sk-container-id-3 div.sk-estimator {font-family: monospace;background-color: #f0f8ff;border: 1px dotted black;border-radius: 0.25em;box-sizing: border-box;margin-bottom: 0.5em;}#sk-container-id-3 div.sk-estimator:hover {background-color: #d4ebff;}#sk-container-id-3 div.sk-parallel-item::after {content: \"\";width: 100%;border-bottom: 1px solid gray;flex-grow: 1;}#sk-container-id-3 div.sk-label:hover label.sk-toggleable__label {background-color: #d4ebff;}#sk-container-id-3 div.sk-serial::before {content: \"\";position: absolute;border-left: 1px solid gray;box-sizing: border-box;top: 0;bottom: 0;left: 50%;z-index: 0;}#sk-container-id-3 div.sk-serial {display: flex;flex-direction: column;align-items: center;background-color: white;padding-right: 0.2em;padding-left: 0.2em;position: relative;}#sk-container-id-3 div.sk-item {position: relative;z-index: 1;}#sk-container-id-3 div.sk-parallel {display: flex;align-items: stretch;justify-content: center;background-color: white;position: relative;}#sk-container-id-3 div.sk-item::before, #sk-container-id-3 div.sk-parallel-item::before {content: \"\";position: absolute;border-left: 1px solid gray;box-sizing: border-box;top: 0;bottom: 0;left: 50%;z-index: -1;}#sk-container-id-3 div.sk-parallel-item {display: flex;flex-direction: column;z-index: 1;position: relative;background-color: white;}#sk-container-id-3 div.sk-parallel-item:first-child::after {align-self: flex-end;width: 50%;}#sk-container-id-3 div.sk-parallel-item:last-child::after {align-self: flex-start;width: 50%;}#sk-container-id-3 div.sk-parallel-item:only-child::after {width: 0;}#sk-container-id-3 div.sk-dashed-wrapped {border: 1px dashed gray;margin: 0 0.4em 0.5em 0.4em;box-sizing: border-box;padding-bottom: 0.4em;background-color: white;}#sk-container-id-3 div.sk-label label {font-family: monospace;font-weight: bold;display: inline-block;line-height: 1.2em;}#sk-container-id-3 div.sk-label-container {text-align: center;}#sk-container-id-3 div.sk-container {/* jupyter's `normalize.less` sets `[hidden] { display: none; }` but bootstrap.min.css set `[hidden] { display: none !important; }` so we also need the `!important` here to be able to override the default hidden behavior on the sphinx rendered scikit-learn.org. See: https://github.com/scikit-learn/scikit-learn/issues/21755 */display: inline-block !important;position: relative;}#sk-container-id-3 div.sk-text-repr-fallback {display: none;}</style><div id=\"sk-container-id-3\" class=\"sk-top-container\"><div class=\"sk-text-repr-fallback\"><pre>KNeighborsClassifier(n_neighbors=27)</pre><b>In a Jupyter environment, please rerun this cell to show the HTML representation or trust the notebook. <br />On GitHub, the HTML representation is unable to render, please try loading this page with nbviewer.org.</b></div><div class=\"sk-container\" hidden><div class=\"sk-item\"><div class=\"sk-estimator sk-toggleable\"><input class=\"sk-toggleable__control sk-hidden--visually\" id=\"sk-estimator-id-3\" type=\"checkbox\" checked><label for=\"sk-estimator-id-3\" class=\"sk-toggleable__label sk-toggleable__label-arrow\">KNeighborsClassifier</label><div class=\"sk-toggleable__content\"><pre>KNeighborsClassifier(n_neighbors=27)</pre></div></div></div></div></div>"
      ],
      "text/plain": [
       "KNeighborsClassifier(n_neighbors=27)"
      ]
     },
     "execution_count": 130,
     "metadata": {},
     "output_type": "execute_result"
    }
   ],
   "source": [
    "# Train the KNN model with the optimal k\n",
    "knn = KNeighborsClassifier(n_neighbors=optimal_k)\n",
    "knn.fit(X_train, Y_train)"
   ]
  },
  {
   "cell_type": "code",
   "execution_count": 131,
   "id": "e91343c5-a9f6-4f2b-b043-d5ef1c8f65bf",
   "metadata": {},
   "outputs": [],
   "source": [
    "# Predict the labels on the test set\n",
    "Y_pred = knn.predict(X_test)"
   ]
  },
  {
   "cell_type": "code",
   "execution_count": 132,
   "id": "c541d9ff-dcde-4a0b-8f56-add8ab2e300a",
   "metadata": {},
   "outputs": [
    {
     "name": "stdout",
     "output_type": "stream",
     "text": [
      "Confusion Matrix:\n",
      " [[103  28  25  12  24]\n",
      " [ 30 137  15   1   3]\n",
      " [ 64  28  53  27  32]\n",
      " [ 21   3  25 109  40]\n",
      " [ 29   8  51  57  71]]\n"
     ]
    }
   ],
   "source": [
    "# Print the confusion matrix\n",
    "conf_matrix = confusion_matrix(Y_test, Y_pred)\n",
    "print(\"Confusion Matrix:\\n\", conf_matrix)"
   ]
  },
  {
   "cell_type": "code",
   "execution_count": 133,
   "id": "fabcea42-5af3-4cc4-86ca-8c9b386e5065",
   "metadata": {},
   "outputs": [
    {
     "name": "stdout",
     "output_type": "stream",
     "text": [
      "Classification Report:\n",
      "               precision    recall  f1-score   support\n",
      "\n",
      "       Heart       0.42      0.54      0.47       192\n",
      "      Oblong       0.67      0.74      0.70       186\n",
      "        Oval       0.31      0.26      0.28       204\n",
      "       Round       0.53      0.55      0.54       198\n",
      "      Square       0.42      0.33      0.37       216\n",
      "\n",
      "    accuracy                           0.47       996\n",
      "   macro avg       0.47      0.48      0.47       996\n",
      "weighted avg       0.47      0.47      0.47       996\n",
      "\n"
     ]
    }
   ],
   "source": [
    "# Print the classification report\n",
    "class_report = classification_report(Y_test, Y_pred, target_names=label_encoder.classes_)\n",
    "print(\"Classification Report:\\n\", class_report)"
   ]
  },
  {
   "cell_type": "code",
   "execution_count": 134,
   "id": "03428f4a-3fce-4629-88fb-6b312313557c",
   "metadata": {},
   "outputs": [
    {
     "data": {
      "image/png": "[encoded data removed]",
      "text/plain": [
       "<Figure size 1000x700 with 2 Axes>"
      ]
     },
     "metadata": {},
     "output_type": "display_data"
    }
   ],
   "source": [
    "# Plot the confusion matrix\n",
    "plt.figure(figsize=(10, 7))\n",
    "sns.heatmap(conf_matrix, annot=True, fmt='d', cmap='Blues', xticklabels=label_encoder.classes_, yticklabels=label_encoder.classes_)\n",
    "plt.xlabel('Predicted')\n",
    "plt.ylabel('Actual')\n",
    "plt.title('Confusion Matrix')\n",
    "plt.show()"
   ]
  },
  {
   "cell_type": "code",
   "execution_count": 135,
   "id": "d05bd350-26d0-4b15-b928-b1b3b2f32160",
   "metadata": {},
   "outputs": [
    {
     "data": {
      "text/plain": [
       "['knn_face_shape_model.pkl']"
      ]
     },
     "execution_count": 135,
     "metadata": {},
     "output_type": "execute_result"
    }
   ],
   "source": [
    "import joblib\n",
    "\n",
    "# Assuming 'knn' is your trained KNN model\n",
    "joblib.dump(knn, 'knn_face_shape_model.pkl')"
   ]
  },
  {
   "cell_type": "code",
   "execution_count": 136,
   "id": "ec464854-8470-4e0d-9bbe-ce9c611c19ee",
   "metadata": {},
   "outputs": [
    {
     "data": {
      "text/plain": [
       "['label_encoder.pkl']"
      ]
     },
     "execution_count": 136,
     "metadata": {},
     "output_type": "execute_result"
    }
   ],
   "source": [
    "joblib.dump(label_encoder, 'label_encoder.pkl')"
   ]
  },
  {
   "cell_type": "code",
   "execution_count": null,
   "id": "e9c3b407-347e-4f17-934a-51935a8d5712",
   "metadata": {},
   "outputs": [],
   "source": []
  }
 ],
 "metadata": {
  "kernelspec": {
   "display_name": "Python 3 (ipykernel)",
   "language": "python",
   "name": "python3"
  },
  "language_info": {
   "codemirror_mode": {
    "name": "ipython",
    "version": 3
   },
   "file_extension": ".py",
   "mimetype": "text/x-python",
   "name": "python",
   "nbconvert_exporter": "python",
   "pygments_lexer": "ipython3",
   "version": "3.11.3"
  }
 },
 "nbformat": 4,
 "nbformat_minor": 5
}
