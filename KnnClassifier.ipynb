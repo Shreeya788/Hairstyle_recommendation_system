{
 "cells": [
  {
   "cell_type": "code",
   "execution_count": 1,
   "id": "84119333-65b3-4887-9332-8566f6dbcb59",
   "metadata": {},
   "outputs": [],
   "source": [
    "import os\n",
    "import cv2\n",
    "import dlib\n",
    "import numpy as np\n",
    "import pandas as pd\n",
    "from sklearn.preprocessing import LabelEncoder, StandardScaler\n",
    "from sklearn.model_selection import train_test_split, GridSearchCV\n",
    "from sklearn.neighbors import KNeighborsClassifier\n",
    "from sklearn.metrics import classification_report, confusion_matrix\n",
    "import matplotlib.pyplot as plt\n",
    "import seaborn as sns\n",
    "import joblib"
   ]
  },
  {
   "cell_type": "code",
   "execution_count": 2,
   "id": "33343048-c2b7-4a41-b042-a688b9fb72ef",
   "metadata": {},
   "outputs": [],
   "source": [
    "# Load pre-trained models for landmark detection\n",
    "detector = dlib.get_frontal_face_detector()\n",
    "predictor = dlib.shape_predictor('shape_predictor_68_face_landmarks.dat')"
   ]
  },
  {
   "cell_type": "code",
   "execution_count": 3,
   "id": "8cb9654a-e12f-4d90-976f-eaa99e64a666",
   "metadata": {},
   "outputs": [],
   "source": [
    "def get_landmarks(image):\n",
    "    gray = cv2.cvtColor(image, cv2.COLOR_BGR2GRAY)\n",
    "    rects = detector(gray, 1)\n",
    "    for (i, rect) in enumerate(rects):\n",
    "        shape = predictor(gray, rect)\n",
    "        landmarks = np.array([(shape.part(i).x, shape.part(i).y) for i in range(68)])\n",
    "        return landmarks\n",
    "    return None"
   ]
  },
  {
   "cell_type": "code",
   "execution_count": 4,
   "id": "4df0fbdc-c7d4-4077-8254-f4b52accee77",
   "metadata": {},
   "outputs": [],
   "source": [
    "def calculate_angle(p1, p2, p3):\n",
    "    v1 = p1 - p2\n",
    "    v2 = p3 - p2\n",
    "    return np.degrees(np.arccos(np.dot(v1, v2) / (np.linalg.norm(v1) * np.linalg.norm(v2))))"
   ]
  },
  {
   "cell_type": "code",
   "execution_count": 5,
   "id": "9cfcf5cf-a099-472c-805b-fdc73fd00567",
   "metadata": {},
   "outputs": [],
   "source": [
    "def extract_features(landmarks):\n",
    "    features = []\n",
    "    \n",
    "    # Basic distances\n",
    "    eye_distance = np.linalg.norm(landmarks[36] - landmarks[45])\n",
    "    nose_chin_distance = np.linalg.norm(landmarks[33] - landmarks[8])\n",
    "    jaw_width = np.linalg.norm(landmarks[0] - landmarks[16])\n",
    "    face_length = np.linalg.norm(landmarks[8] - landmarks[27])\n",
    "    cheekbones = np.linalg.norm(landmarks[1] - landmarks[15])\n",
    "    forehead = np.linalg.norm(landmarks[19] - landmarks[24])\n",
    "    \n",
    "    # Angles\n",
    "    jaw_angle = calculate_angle(landmarks[0], landmarks[8], landmarks[16])\n",
    "    cheekbone_angle = calculate_angle(landmarks[1], landmarks[27], landmarks[15])\n",
    "    forehead_angle = calculate_angle(landmarks[19], landmarks[27], landmarks[24])\n",
    "    \n",
    "    # Ratios\n",
    "    jaw_to_cheekbone_ratio = jaw_width / cheekbones\n",
    "    face_length_to_width_ratio = face_length / cheekbones\n",
    "    \n",
    "    # New features\n",
    "    chin_angle = calculate_angle(landmarks[6], landmarks[8], landmarks[10])\n",
    "    temple_to_chin_ratio = np.linalg.norm(landmarks[0] - landmarks[16]) / face_length\n",
    "    \n",
    "    features = [eye_distance, nose_chin_distance, jaw_width, face_length, cheekbones, forehead,\n",
    "                jaw_angle, cheekbone_angle, forehead_angle, jaw_to_cheekbone_ratio,\n",
    "                face_length_to_width_ratio, chin_angle, temple_to_chin_ratio]\n",
    "    \n",
    "    return features"
   ]
  },
  {
   "cell_type": "code",
   "execution_count": null,
   "id": "0e5a4de7-788b-4658-80b8-81e86a7afadb",
   "metadata": {},
   "outputs": [],
   "source": []
  },
  {
   "cell_type": "code",
   "execution_count": 6,
   "id": "48ef568b-6294-4ed2-8413-c4ef4265fcfb",
   "metadata": {},
   "outputs": [],
   "source": [
    "# Main directory path\n",
    "main_dir = r'E:\\archive (1)\\FaceShape Dataset\\training_set'"
   ]
  },
  {
   "cell_type": "code",
   "execution_count": 7,
   "id": "673af5a6-63d8-45e2-99ec-5fb79242d744",
   "metadata": {},
   "outputs": [
    {
     "ename": "NameError",
     "evalue": "name 'load_dataset' is not defined",
     "output_type": "error",
     "traceback": [
      "\u001b[1;31m---------------------------------------------------------------------------\u001b[0m",
      "\u001b[1;31mNameError\u001b[0m                                 Traceback (most recent call last)",
      "Cell \u001b[1;32mIn[7], line 2\u001b[0m\n\u001b[0;32m      1\u001b[0m \u001b[38;5;66;03m# Load dataset\u001b[39;00m\n\u001b[1;32m----> 2\u001b[0m feature_list, label_list \u001b[38;5;241m=\u001b[39m \u001b[43mload_dataset\u001b[49m(main_dir)\n",
      "\u001b[1;31mNameError\u001b[0m: name 'load_dataset' is not defined"
     ]
    }
   ],
   "source": [
    "# Load dataset\n",
    "feature_list, label_list = load_dataset(main_dir)"
   ]
  },
  {
   "cell_type": "code",
   "execution_count": null,
   "id": "95fe24c6-0d7d-45a8-b549-d474ccf8d249",
   "metadata": {},
   "outputs": [],
   "source": [
    "# Create DataFrame\n",
    "columns = ['eye_distance', 'nose_chin_distance', 'jaw_width', 'face_length', 'cheekbones', 'forehead',\n",
    "           'jaw_angle', 'cheekbone_angle', 'forehead_angle', 'jaw_to_cheekbone_ratio',\n",
    "           'face_length_to_width_ratio', 'chin_angle', 'temple_to_chin_ratio']"
   ]
  },
  {
   "cell_type": "code",
   "execution_count": null,
   "id": "88d665c9-86ea-440b-9a6c-1bf5d66d4060",
   "metadata": {},
   "outputs": [],
   "source": [
    "df = pd.DataFrame(feature_list, columns=columns)"
   ]
  },
  {
   "cell_type": "code",
   "execution_count": null,
   "id": "a66910c9-6e4e-4c90-aa38-ee6a517b5653",
   "metadata": {},
   "outputs": [],
   "source": [
    "df['face_shape'] = label_list"
   ]
  },
  {
   "cell_type": "code",
   "execution_count": null,
   "id": "8955f3a4-ff8c-48f2-b8e3-f28288d366e5",
   "metadata": {},
   "outputs": [],
   "source": [
    "# Save to CSV\n",
    "df.to_csv('face_shape_features_knn.csv', index=False)"
   ]
  },
  {
   "cell_type": "code",
   "execution_count": null,
   "id": "c5f4eafa-31b3-4504-8ef1-dccbb0ddfb55",
   "metadata": {},
   "outputs": [],
   "source": [
    "# Load the dataset\n",
    "data = pd.read_csv('face_shape_features_knn.csv')"
   ]
  },
  {
   "cell_type": "code",
   "execution_count": null,
   "id": "c0828946-a32d-466f-a9e9-78323eed227a",
   "metadata": {},
   "outputs": [],
   "source": [
    "# Separate features and labels\n",
    "X = data.drop('face_shape', axis=1)\n",
    "y = data['face_shape']"
   ]
  },
  {
   "cell_type": "code",
   "execution_count": null,
   "id": "f11ae494-71e7-45bb-af9f-a19798876bb4",
   "metadata": {},
   "outputs": [],
   "source": [
    "# Encode labels\n",
    "label_encoder = LabelEncoder()\n",
    "y = label_encoder.fit_transform(y)"
   ]
  },
  {
   "cell_type": "code",
   "execution_count": null,
   "id": "e11649a1-6221-4a2c-a1cc-e1674c843967",
   "metadata": {},
   "outputs": [],
   "source": [
    "# Scale features\n",
    "scaler = StandardScaler()\n",
    "X = scaler.fit_transform(X)"
   ]
  },
  {
   "cell_type": "code",
   "execution_count": null,
   "id": "2ff51094-2c6a-44a1-9c7e-3fcbefcd137b",
   "metadata": {},
   "outputs": [],
   "source": [
    "#Split the dataset\n",
    "X_train, X_test, y_train, y_test = train_test_split(X, y, test_size=0.25, random_state=42)"
   ]
  },
  {
   "cell_type": "code",
   "execution_count": null,
   "id": "1e79de13-746f-4641-b2a5-3ae6aa8cddc4",
   "metadata": {},
   "outputs": [],
   "source": [
    "# KNN with GridSearchCV\n",
    "knn_params = {\n",
    "    'n_neighbors': [3, 5, 7, 9, 11],\n",
    "    'weights': ['uniform', 'distance'],\n",
    "    'metric': ['euclidean', 'manhattan']\n",
    "}"
   ]
  },
  {
   "cell_type": "code",
   "execution_count": null,
   "id": "a0e6a321-9183-489b-8ecb-05b41f48c6cc",
   "metadata": {},
   "outputs": [],
   "source": [
    "knn = KNeighborsClassifier()\n",
    "grid_search = GridSearchCV(estimator=knn, param_grid=knn_params, cv=5, n_jobs=-1, verbose=2)\n",
    "grid_search.fit(X_train, y_train)"
   ]
  },
  {
   "cell_type": "code",
   "execution_count": null,
   "id": "21ff8bef-18f9-483a-9196-52550adbd7f4",
   "metadata": {},
   "outputs": [],
   "source": [
    "# Best model\n",
    "best_knn = grid_search.best_estimator_"
   ]
  },
  {
   "cell_type": "code",
   "execution_count": null,
   "id": "0dc83879-f015-40f4-ad04-5b2df83d6cfd",
   "metadata": {},
   "outputs": [],
   "source": [
    "#Predict and evaluate\n",
    "y_pred = best_knn.predict(X_test)"
   ]
  },
  {
   "cell_type": "code",
   "execution_count": null,
   "id": "469cf174-96cc-4bad-9131-d7e92d3aa4da",
   "metadata": {},
   "outputs": [],
   "source": [
    "#Print classification report\n",
    "print(classification_report(y_test, y_pred, target_names=label_encoder.classes_))"
   ]
  },
  {
   "cell_type": "code",
   "execution_count": null,
   "id": "00b9b7de-b51a-4dd2-917f-6abd47c85eab",
   "metadata": {},
   "outputs": [],
   "source": [
    "# Plot confusion matrix\n",
    "cm = confusion_matrix(y_test, y_pred)\n",
    "plt.figure(figsize=(10, 8))\n",
    "sns.heatmap(cm, annot=True, fmt='d', cmap='Blues', xticklabels=label_encoder.classes_, yticklabels=label_encoder.classes_)\n",
    "plt.xlabel('Predicted')\n",
    "plt.ylabel('Actual')\n",
    "plt.title('Confusion Matrix')\n",
    "plt.show()"
   ]
  },
  {
   "cell_type": "code",
   "execution_count": null,
   "id": "378d4666-664d-4e81-8ef7-47d8f196a163",
   "metadata": {},
   "outputs": [],
   "source": [
    "# Save the model\n",
    "joblib.dump(best_knn, 'knn_face_shape_model.pkl')\n",
    "joblib.dump(label_encoder, 'label_encoder_knn.pkl')\n",
    "joblib.dump(scaler, 'scaler_knn.pkl')"
   ]
  },
  {
   "cell_type": "code",
   "execution_count": null,
   "id": "b40b92de-11c2-48b9-8677-0ee60168cb27",
   "metadata": {},
   "outputs": [],
   "source": []
  },
  {
   "cell_type": "code",
   "execution_count": null,
   "id": "fc2823c3-6b7e-4574-902e-277fd4c2c42c",
   "metadata": {},
   "outputs": [],
   "source": []
  },
  {
   "cell_type": "code",
   "execution_count": null,
   "id": "07121052-e5d8-44e4-a69a-b0dfb0bde4f5",
   "metadata": {},
   "outputs": [],
   "source": []
  }
 ],
 "metadata": {
  "kernelspec": {
   "display_name": "Python 3 (ipykernel)",
   "language": "python",
   "name": "python3"
  },
  "language_info": {
   "codemirror_mode": {
    "name": "ipython",
    "version": 3
   },
   "file_extension": ".py",
   "mimetype": "text/x-python",
   "name": "python",
   "nbconvert_exporter": "python",
   "pygments_lexer": "ipython3",
   "version": "3.11.3"
  }
 },
 "nbformat": 4,
 "nbformat_minor": 5
}
